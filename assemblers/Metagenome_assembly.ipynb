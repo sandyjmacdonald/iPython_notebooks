{
 "metadata": {
  "name": "",
  "signature": "sha256:42ee05c012f837c4eff5969ad543dd3ee3848aed96a5fad2afbc1e76f0b727eb"
 },
 "nbformat": 3,
 "nbformat_minor": 0,
 "worksheets": [
  {
   "cells": [
    {
     "cell_type": "markdown",
     "metadata": {},
     "source": [
      "# Metagenome assembly\n",
      "\n",
      "Assembling paired-end Illumina HiSeq reads using a range of methods.\n",
      "\n",
      "Before assembly, reads trimmed with Sickle and the default settings, and adaptors and barcodes were removed using CutAdapt.\n",
      "\n",
      "Read lengths are ~100 bp and there were 63,864,626 (total forward plus reverse) reads, around 11 gigabytes.\n",
      "\n",
      "------------------------\n",
      "\n",
      "# MEGAHIT\n",
      "\n",
      "[MEGAHIT](https://github.com/voutcn/megahit) is a _de novo_ assembler tailored specifically for metagenome assembly.\n",
      "\n",
      "It took just under two hours to assemble these reads using 64 gigabytes memory and 64 threads.\n",
      "\n",
      "------------------------"
     ]
    },
    {
     "cell_type": "code",
     "collapsed": false,
     "input": [
      "from pandas import DataFrame, Series\n",
      "from Bio import SeqIO\n",
      "from ggplot import *"
     ],
     "language": "python",
     "metadata": {},
     "outputs": [],
     "prompt_number": 1
    },
    {
     "cell_type": "markdown",
     "metadata": {},
     "source": [
      "------------------------\n",
      "\n",
      "Let's load in our contigs file from MEGAHIT and run it through BioPython to pull the lengths out...\n",
      "\n",
      "------------------------"
     ]
    },
    {
     "cell_type": "code",
     "collapsed": false,
     "input": [
      "fasta = '/Users/sandyjmacdonald/Documents/C2D2/Symlinks/megahit_contigs.fa'\n",
      "lengths = {}\n",
      "\n",
      "for seq in SeqIO.parse(fasta, 'fasta'):\n",
      "\tlengths[seq.id] = len(seq)"
     ],
     "language": "python",
     "metadata": {},
     "outputs": [],
     "prompt_number": 3
    },
    {
     "cell_type": "markdown",
     "metadata": {},
     "source": [
      "------------------------\n",
      "\n",
      "... and then add those lengths into a Pandas dataframe.\n",
      "\n",
      "------------------------"
     ]
    },
    {
     "cell_type": "code",
     "collapsed": false,
     "input": [
      "d = {'lengths': Series(lengths.values(), index=lengths.keys())}\n",
      "df = DataFrame(d)\n",
      "df.describe().apply(Series.round)"
     ],
     "language": "python",
     "metadata": {},
     "outputs": [
      {
       "html": [
        "<div style=\"max-height:1000px;max-width:1500px;overflow:auto;\">\n",
        "<table border=\"1\" class=\"dataframe\">\n",
        "  <thead>\n",
        "    <tr style=\"text-align: right;\">\n",
        "      <th></th>\n",
        "      <th>lengths</th>\n",
        "    </tr>\n",
        "  </thead>\n",
        "  <tbody>\n",
        "    <tr>\n",
        "      <th>count</th>\n",
        "      <td> 282726</td>\n",
        "    </tr>\n",
        "    <tr>\n",
        "      <th>mean</th>\n",
        "      <td>    359</td>\n",
        "    </tr>\n",
        "    <tr>\n",
        "      <th>std</th>\n",
        "      <td>    475</td>\n",
        "    </tr>\n",
        "    <tr>\n",
        "      <th>min</th>\n",
        "      <td>    200</td>\n",
        "    </tr>\n",
        "    <tr>\n",
        "      <th>25%</th>\n",
        "      <td>    229</td>\n",
        "    </tr>\n",
        "    <tr>\n",
        "      <th>50%</th>\n",
        "      <td>    277</td>\n",
        "    </tr>\n",
        "    <tr>\n",
        "      <th>75%</th>\n",
        "      <td>    378</td>\n",
        "    </tr>\n",
        "    <tr>\n",
        "      <th>max</th>\n",
        "      <td>  74410</td>\n",
        "    </tr>\n",
        "  </tbody>\n",
        "</table>\n",
        "</div>"
       ],
       "metadata": {},
       "output_type": "pyout",
       "prompt_number": 14,
       "text": [
        "       lengths\n",
        "count   282726\n",
        "mean       359\n",
        "std        475\n",
        "min        200\n",
        "25%        229\n",
        "50%        277\n",
        "75%        378\n",
        "max      74410"
       ]
      }
     ],
     "prompt_number": 14
    },
    {
     "cell_type": "code",
     "collapsed": false,
     "input": [
      "sum(df['lengths'])"
     ],
     "language": "python",
     "metadata": {},
     "outputs": [
      {
       "metadata": {},
       "output_type": "pyout",
       "prompt_number": 15,
       "text": [
        "101377304"
       ]
      }
     ],
     "prompt_number": 15
    },
    {
     "cell_type": "markdown",
     "metadata": {},
     "source": [
      "------------------------\n",
      "\n",
      "So, there are 282,726 contigs, and our largest is ~74 Kb. The total assembled length is 101,377,304 bp.\n",
      "\n",
      "If we look at just the contigs greater than 5 Kb, there are 132 of them, with a decent number between 5 and 20 Kb.\n",
      "\n",
      "------------------------"
     ]
    },
    {
     "cell_type": "code",
     "collapsed": false,
     "input": [
      "df = df[df['lengths'] > 5000]\n",
      "df.describe().apply(Series.round)"
     ],
     "language": "python",
     "metadata": {},
     "outputs": [
      {
       "html": [
        "<div style=\"max-height:1000px;max-width:1500px;overflow:auto;\">\n",
        "<table border=\"1\" class=\"dataframe\">\n",
        "  <thead>\n",
        "    <tr style=\"text-align: right;\">\n",
        "      <th></th>\n",
        "      <th>lengths</th>\n",
        "    </tr>\n",
        "  </thead>\n",
        "  <tbody>\n",
        "    <tr>\n",
        "      <th>count</th>\n",
        "      <td>   132</td>\n",
        "    </tr>\n",
        "    <tr>\n",
        "      <th>mean</th>\n",
        "      <td> 14238</td>\n",
        "    </tr>\n",
        "    <tr>\n",
        "      <th>std</th>\n",
        "      <td> 12812</td>\n",
        "    </tr>\n",
        "    <tr>\n",
        "      <th>min</th>\n",
        "      <td>  5015</td>\n",
        "    </tr>\n",
        "    <tr>\n",
        "      <th>25%</th>\n",
        "      <td>  6080</td>\n",
        "    </tr>\n",
        "    <tr>\n",
        "      <th>50%</th>\n",
        "      <td>  8154</td>\n",
        "    </tr>\n",
        "    <tr>\n",
        "      <th>75%</th>\n",
        "      <td> 17240</td>\n",
        "    </tr>\n",
        "    <tr>\n",
        "      <th>max</th>\n",
        "      <td> 74410</td>\n",
        "    </tr>\n",
        "  </tbody>\n",
        "</table>\n",
        "</div>"
       ],
       "metadata": {},
       "output_type": "pyout",
       "prompt_number": 9,
       "text": [
        "       lengths\n",
        "count      132\n",
        "mean     14238\n",
        "std      12812\n",
        "min       5015\n",
        "25%       6080\n",
        "50%       8154\n",
        "75%      17240\n",
        "max      74410"
       ]
      }
     ],
     "prompt_number": 9
    },
    {
     "cell_type": "code",
     "collapsed": false,
     "input": [
      "sum(df['lengths'])"
     ],
     "language": "python",
     "metadata": {},
     "outputs": [
      {
       "metadata": {},
       "output_type": "pyout",
       "prompt_number": 16,
       "text": [
        "101377304"
       ]
      }
     ],
     "prompt_number": 16
    },
    {
     "cell_type": "markdown",
     "metadata": {},
     "source": [
      "------------------------\n",
      "\n",
      "Let's plot the contigs greater than 5 Kb in length as a histogram with ggplot.\n",
      "\n",
      "------------------------"
     ]
    },
    {
     "cell_type": "code",
     "collapsed": false,
     "input": [
      "p = ggplot(aes(x='lengths'), data=df)\n",
      "p + geom_histogram(stat='bin', binwidth=1000) + ggtitle(\"MEGAHIT contigs > 5 Kb\") + labs(\"Contig length, bp\", \"Frequency\")"
     ],
     "language": "python",
     "metadata": {},
     "outputs": [
      {
       "metadata": {},
       "output_type": "display_data",
       "png": "[encoded data removed]",
       "text": [
        "<matplotlib.figure.Figure at 0x10ea270d0>"
       ]
      },
      {
       "metadata": {},
       "output_type": "pyout",
       "prompt_number": 7,
       "text": [
        "<ggplot: (284510333)>"
       ]
      }
     ],
     "prompt_number": 7
    }
   ],
   "metadata": {}
  }
 ]
}